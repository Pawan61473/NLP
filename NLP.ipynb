{
  "nbformat": 4,
  "nbformat_minor": 0,
  "metadata": {
    "colab": {
      "provenance": [],
      "authorship_tag": "ABX9TyPdjp2oAhfRyvhm3j5yuVg+",
      "include_colab_link": true
    },
    "kernelspec": {
      "name": "python3",
      "display_name": "Python 3"
    },
    "language_info": {
      "name": "python"
    }
  },
  "cells": [
    {
      "cell_type": "markdown",
      "metadata": {
        "id": "view-in-github",
        "colab_type": "text"
      },
      "source": [
        "<a href=\"https://colab.research.google.com/github/Pawan61473/NLP/blob/main/NLP.ipynb\" target=\"_parent\"><img src=\"https://colab.research.google.com/assets/colab-badge.svg\" alt=\"Open In Colab\"/></a>"
      ]
    },
    {
      "cell_type": "code",
      "execution_count": null,
      "metadata": {
        "colab": {
          "base_uri": "https://localhost:8080/"
        },
        "id": "-x-NiygiEbQ8",
        "outputId": "c55a2831-cd5a-4ecd-ab75-aa33564b01ec"
      },
      "outputs": [
        {
          "output_type": "stream",
          "name": "stdout",
          "text": [
            "Requirement already satisfied: nltk in /usr/local/lib/python3.10/dist-packages (3.8.1)\n",
            "Requirement already satisfied: click in /usr/local/lib/python3.10/dist-packages (from nltk) (8.1.7)\n",
            "Requirement already satisfied: joblib in /usr/local/lib/python3.10/dist-packages (from nltk) (1.4.2)\n",
            "Requirement already satisfied: regex>=2021.8.3 in /usr/local/lib/python3.10/dist-packages (from nltk) (2023.12.25)\n",
            "Requirement already satisfied: tqdm in /usr/local/lib/python3.10/dist-packages (from nltk) (4.66.4)\n"
          ]
        }
      ],
      "source": [
        "!pip install nltk"
      ]
    },
    {
      "cell_type": "code",
      "source": [
        "paragraph = \"\"\" Arijit Singh (born 25 April 1987) is an Indian playback singer and music composer.[7][5][2] The recipient of several accolades including a National Film Award and seven Filmfare Awards, he has recorded songs in several Indian languages, predominantly Hindi and Bengali. He is noted for his ability of performing songs in diverse music genres and is acclaimed for his significant contributions to the contemporary Bollywood Music.[8][9][10] He is considered as one of the best singers of his generation .[11][12][13][14][15]\n",
        "\n",
        "Singh began his career when he participated in the contemporary reality show Fame Gurukul in 2005. Singh made his Hindi cinema debut in 2011 with the song \"Phir Mohabbat\" along with Saim Bhatt and Mohammed Irfan composed by Mithoon for the film Murder 2, although the song was recorded in 2009. The same year he had sung popular songs like \"Raabta\" from Agent Vinod, \"Uska Hi Banana\" from 1920: Evil Returns and \"Duaa\" from Shanghai.\n",
        "\n",
        "\"\"\""
      ],
      "metadata": {
        "id": "-IshzVZYEg_k"
      },
      "execution_count": null,
      "outputs": []
    },
    {
      "cell_type": "code",
      "source": [
        "paragraph"
      ],
      "metadata": {
        "colab": {
          "base_uri": "https://localhost:8080/",
          "height": 140
        },
        "id": "l-mM7cFrGWkm",
        "outputId": "1b8d809b-7a50-49df-c377-784a6cc0beb6"
      },
      "execution_count": null,
      "outputs": [
        {
          "output_type": "execute_result",
          "data": {
            "text/plain": [
              "' Arijit Singh (born 25 April 1987) is an Indian playback singer and music composer.[7][5][2] The recipient of several accolades including a National Film Award and seven Filmfare Awards, he has recorded songs in several Indian languages, predominantly Hindi and Bengali. He is noted for his ability of performing songs in diverse music genres and is acclaimed for his significant contributions to the contemporary Bollywood Music.[8][9][10] He is considered as one of the best singers of his generation .[11][12][13][14][15]\\n\\nSingh began his career when he participated in the contemporary reality show Fame Gurukul in 2005. Singh made his Hindi cinema debut in 2011 with the song \"Phir Mohabbat\" along with Saim Bhatt and Mohammed Irfan composed by Mithoon for the film Murder 2, although the song was recorded in 2009. The same year he had sung popular songs like \"Raabta\" from Agent Vinod, \"Uska Hi Banana\" from 1920: Evil Returns and \"Duaa\" from Shanghai.\\n\\n'"
            ],
            "application/vnd.google.colaboratory.intrinsic+json": {
              "type": "string"
            }
          },
          "metadata": {},
          "execution_count": 3
        }
      ]
    },
    {
      "cell_type": "code",
      "source": [
        "import nltk\n",
        "from nltk.stem import PorterStemmer\n",
        "from nltk.corpus import stopwords"
      ],
      "metadata": {
        "id": "nrkTePl2GZqF"
      },
      "execution_count": null,
      "outputs": []
    },
    {
      "cell_type": "code",
      "source": [
        "# Tokenization\n",
        "nltk.download('punkt')\n",
        "sentences = nltk.sent_tokenize(paragraph)"
      ],
      "metadata": {
        "colab": {
          "base_uri": "https://localhost:8080/"
        },
        "id": "z0HdyzxlHGNX",
        "outputId": "a4d23f79-c1ad-487a-8d2e-5c6fea193d99"
      },
      "execution_count": null,
      "outputs": [
        {
          "output_type": "stream",
          "name": "stderr",
          "text": [
            "[nltk_data] Downloading package punkt to /root/nltk_data...\n",
            "[nltk_data]   Package punkt is already up-to-date!\n"
          ]
        }
      ]
    },
    {
      "cell_type": "code",
      "source": [
        "print(sentences)"
      ],
      "metadata": {
        "colab": {
          "base_uri": "https://localhost:8080/"
        },
        "id": "Ag9eXJWFHgTo",
        "outputId": "af9b0f68-c73d-471c-fb3e-88c0c54e7fcf"
      },
      "execution_count": null,
      "outputs": [
        {
          "output_type": "stream",
          "name": "stdout",
          "text": [
            "[' Arijit Singh (born 25 April 1987) is an Indian playback singer and music composer.', '[7][5][2] The recipient of several accolades including a National Film Award and seven Filmfare Awards, he has recorded songs in several Indian languages, predominantly Hindi and Bengali.', 'He is noted for his ability of performing songs in diverse music genres and is acclaimed for his significant contributions to the contemporary Bollywood Music.', '[8][9][10] He is considered as one of the best singers of his generation .', '[11][12][13][14][15]\\n\\nSingh began his career when he participated in the contemporary reality show Fame Gurukul in 2005.', 'Singh made his Hindi cinema debut in 2011 with the song \"Phir Mohabbat\" along with Saim Bhatt and Mohammed Irfan composed by Mithoon for the film Murder 2, although the song was recorded in 2009.', 'The same year he had sung popular songs like \"Raabta\" from Agent Vinod, \"Uska Hi Banana\" from 1920: Evil Returns and \"Duaa\" from Shanghai.']\n"
          ]
        }
      ]
    },
    {
      "cell_type": "code",
      "source": [
        "stemmer = PorterStemmer()"
      ],
      "metadata": {
        "id": "yj38so7ZHjqr"
      },
      "execution_count": null,
      "outputs": []
    },
    {
      "cell_type": "code",
      "source": [
        "stemmer.stem(\"goes\")"
      ],
      "metadata": {
        "colab": {
          "base_uri": "https://localhost:8080/",
          "height": 35
        },
        "id": "xuMZEf47H39b",
        "outputId": "8c5e78fb-a06b-481b-8ef2-9f7fd40a2d68"
      },
      "execution_count": null,
      "outputs": [
        {
          "output_type": "execute_result",
          "data": {
            "text/plain": [
              "'goe'"
            ],
            "application/vnd.google.colaboratory.intrinsic+json": {
              "type": "string"
            }
          },
          "metadata": {},
          "execution_count": 19
        }
      ]
    },
    {
      "cell_type": "code",
      "source": [
        "import nltk\n",
        "nltk.download('wordnet')\n",
        "from nltk.stem import WordNetLemmatizer"
      ],
      "metadata": {
        "colab": {
          "base_uri": "https://localhost:8080/"
        },
        "id": "p5LHvnO3H7P_",
        "outputId": "4cd354c5-0ec4-4c5e-9959-c7230156a1ab"
      },
      "execution_count": null,
      "outputs": [
        {
          "output_type": "stream",
          "name": "stderr",
          "text": [
            "[nltk_data] Downloading package wordnet to /root/nltk_data...\n"
          ]
        }
      ]
    },
    {
      "cell_type": "code",
      "source": [
        "lemmatizer = WordNetLemmatizer()"
      ],
      "metadata": {
        "id": "fnDvLRKpIJPs"
      },
      "execution_count": null,
      "outputs": []
    },
    {
      "cell_type": "code",
      "source": [
        "lemmatizer.lemmatize(\"goes\")\n"
      ],
      "metadata": {
        "colab": {
          "base_uri": "https://localhost:8080/",
          "height": 35
        },
        "id": "uPz6ZRNbIMW-",
        "outputId": "065860fd-6981-45aa-f71f-3bf9fd3650c7"
      },
      "execution_count": null,
      "outputs": [
        {
          "output_type": "execute_result",
          "data": {
            "text/plain": [
              "'go'"
            ],
            "application/vnd.google.colaboratory.intrinsic+json": {
              "type": "string"
            }
          },
          "metadata": {},
          "execution_count": 20
        }
      ]
    },
    {
      "cell_type": "code",
      "source": [
        "import re"
      ],
      "metadata": {
        "id": "ynCehAmXIQlt"
      },
      "execution_count": null,
      "outputs": []
    },
    {
      "cell_type": "code",
      "source": [
        "corpus = []\n",
        "for i in range(len(sentences)):\n",
        "  review = re.sub('[^a-zA-Z]',' ',sentences[i])\n",
        "  review = review.lower()\n",
        "  corpus.append(review)"
      ],
      "metadata": {
        "id": "PJKKNn8KRcCU"
      },
      "execution_count": null,
      "outputs": []
    },
    {
      "cell_type": "code",
      "source": [
        "corpus"
      ],
      "metadata": {
        "colab": {
          "base_uri": "https://localhost:8080/"
        },
        "id": "0aao2wMjSYIm",
        "outputId": "3c54a9ad-f074-41b9-df6e-6e6f1e1a3217"
      },
      "execution_count": null,
      "outputs": [
        {
          "output_type": "execute_result",
          "data": {
            "text/plain": [
              "[' arijit singh  born    april       is an indian playback singer and music composer ',\n",
              " '          the recipient of several accolades including a national film award and seven filmfare awards  he has recorded songs in several indian languages  predominantly hindi and bengali ',\n",
              " 'he is noted for his ability of performing songs in diverse music genres and is acclaimed for his significant contributions to the contemporary bollywood music ',\n",
              " '           he is considered as one of the best singers of his generation  ',\n",
              " '                      singh began his career when he participated in the contemporary reality show fame gurukul in      ',\n",
              " 'singh made his hindi cinema debut in      with the song  phir mohabbat  along with saim bhatt and mohammed irfan composed by mithoon for the film murder    although the song was recorded in      ',\n",
              " 'the same year he had sung popular songs like  raabta  from agent vinod   uska hi banana  from       evil returns and  duaa  from shanghai ']"
            ]
          },
          "metadata": {},
          "execution_count": 27
        }
      ]
    },
    {
      "cell_type": "code",
      "source": [
        "## Stemming\n",
        "\n",
        "import nltk\n",
        "nltk.download('stopwords')\n",
        "\n",
        "for i in corpus:\n",
        "  words=nltk.word_tokenize(i)\n",
        "  for word in words:\n",
        "    if word not in set(stopwords.words('english')):\n",
        "      print(stemmer.stem(word))"
      ],
      "metadata": {
        "id": "N5qdN4tiSZKM"
      },
      "execution_count": null,
      "outputs": []
    },
    {
      "cell_type": "code",
      "source": [
        "# Lemmatizer\n",
        "\n",
        "for i in corpus:\n",
        "  words=nltk.word_tokenize(i)\n",
        "  for word in words:\n",
        "    if word not in set(stopwords.words('english')):\n",
        "      print(lemmatizer.lemmatize(word))\n"
      ],
      "metadata": {
        "colab": {
          "base_uri": "https://localhost:8080/"
        },
        "id": "90F-3metUTc8",
        "outputId": "5c4586d5-d2f7-4e92-accc-fe2937618462"
      },
      "execution_count": null,
      "outputs": [
        {
          "output_type": "stream",
          "name": "stdout",
          "text": [
            "arijit\n",
            "singh\n",
            "born\n",
            "april\n",
            "indian\n",
            "playback\n",
            "singer\n",
            "music\n",
            "composer\n",
            "recipient\n",
            "several\n",
            "accolade\n",
            "including\n",
            "national\n",
            "film\n",
            "award\n",
            "seven\n",
            "filmfare\n",
            "award\n",
            "recorded\n",
            "song\n",
            "several\n",
            "indian\n",
            "language\n",
            "predominantly\n",
            "hindi\n",
            "bengali\n",
            "noted\n",
            "ability\n",
            "performing\n",
            "song\n",
            "diverse\n",
            "music\n",
            "genre\n",
            "acclaimed\n",
            "significant\n",
            "contribution\n",
            "contemporary\n",
            "bollywood\n",
            "music\n",
            "considered\n",
            "one\n",
            "best\n",
            "singer\n",
            "generation\n",
            "singh\n",
            "began\n",
            "career\n",
            "participated\n",
            "contemporary\n",
            "reality\n",
            "show\n",
            "fame\n",
            "gurukul\n",
            "singh\n",
            "made\n",
            "hindi\n",
            "cinema\n",
            "debut\n",
            "song\n",
            "phir\n",
            "mohabbat\n",
            "along\n",
            "saim\n",
            "bhatt\n",
            "mohammed\n",
            "irfan\n",
            "composed\n",
            "mithoon\n",
            "film\n",
            "murder\n",
            "although\n",
            "song\n",
            "recorded\n",
            "year\n",
            "sung\n",
            "popular\n",
            "song\n",
            "like\n",
            "raabta\n",
            "agent\n",
            "vinod\n",
            "uska\n",
            "hi\n",
            "banana\n",
            "evil\n",
            "return\n",
            "duaa\n",
            "shanghai\n"
          ]
        }
      ]
    },
    {
      "cell_type": "code",
      "source": [],
      "metadata": {
        "id": "1wrzLhAdVMY8"
      },
      "execution_count": null,
      "outputs": []
    }
  ]
}